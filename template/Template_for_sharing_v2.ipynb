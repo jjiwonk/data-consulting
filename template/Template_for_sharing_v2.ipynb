{
 "cells": [
  {
   "cell_type": "markdown",
   "id": "1c12870a",
   "metadata": {},
   "source": [
    "# (제목변경) 자동화 코드 주제"
   ]
  },
  {
   "cell_type": "markdown",
   "id": "4f604195",
   "metadata": {},
   "source": [
    "### 디렉토리 설정\n",
    "- 아래 각 변수에 해당하는 알맞은 경로를 찾아 입력해주세요.\n",
    "- 경로 주소는 '.../.../...' 형식을 따라주세요."
   ]
  },
  {
   "cell_type": "code",
   "execution_count": null,
   "id": "ac88145a",
   "metadata": {},
   "outputs": [],
   "source": [
    "class directory:\n",
    "    dropbox_dir = 'C:/user/MADUP/Dropbox (주식회사매드업)'\n",
    "    # 드롭박스 폴더 위치경로\n",
    "        \n",
    "    download_dir = 'C:/Users/MADUP/Downloads'\n",
    "    # 최종 결과파일을 다운받을 폴더 위치경로\n",
    "\n",
    "dr = directory()"
   ]
  },
  {
   "cell_type": "markdown",
   "id": "bf6e77c3",
   "metadata": {},
   "source": [
    "### 날짜 설정\n",
    "- 보통 작일자 기준으로 요청주신 기간의 데이터를 출력하게 됩니다.\n",
    "- 날짜 조정이 필요한 경우 아래 변수 값을 수정하여 출력해주세요."
   ]
  },
  {
   "cell_type": "code",
   "execution_count": null,
   "id": "bc1a2c64",
   "metadata": {},
   "outputs": [],
   "source": [
    "import datetime\n",
    "import warnings\n",
    "warnings.filterwarnings(\"ignore\", category=FutureWarning)\n",
    "\n",
    "class report_date:\n",
    "    today = datetime.date.today()\n",
    "    # 오늘 날짜 ex> 2022-09-14\n",
    "    \n",
    "    # today = datetime.date(year = 2022, month = 8, day = 12)\n",
    "    # 다른 일자를 기준으로 추출하고 싶은 경우 위 코드 수정 및 주석해제\n",
    "    \n",
    "    day_1 = today - datetime.timedelta(1)\n",
    "    # 전일자 ex> 2022-09-13\n",
    "    \n",
    "    start_day = datetime.date(year=day_1.year, month=day_1.month, day=1)\n",
    "    # 금월 첫 1일자 ex> 2022-09-01\n",
    "    \n",
    "    yearmonth = day_1.strftime('%Y%m')\n",
    "    # 년월 ex> 202209\n",
    "    \n",
    "    month_name = str(day_1.month) + '월'\n",
    "    # 금월 ex> 9월\n",
    "\n",
    "rdate = report_date()"
   ]
  },
  {
   "cell_type": "markdown",
   "id": "fb84de84",
   "metadata": {},
   "source": [
    "### 구글 스프레드 시트 읽기\n",
    "- 특정 구글 스프레드 시트를 읽어오기 위해 활용하는 메소드 모음입니다.\n",
    "- dcteam@madup-355605.iam.gserviceaccount.com 계정에 참조하고자 하는 구글 시트 공유가 필요합니다."
   ]
  },
  {
   "cell_type": "code",
   "execution_count": null,
   "id": "c3298bd7",
   "metadata": {},
   "outputs": [],
   "source": [
    "from oauth2client.service_account import ServiceAccountCredentials\n",
    "import gspread\n",
    "import pandas as pd\n",
    "import time\n",
    "\n",
    "\n",
    "class spreadsheet:\n",
    "    token_dir = dr.dropbox_dir + '/광고사업부/데이터컨설팅/token'\n",
    "    \n",
    "    def spread_document_read(self, url):\n",
    "        scope = ['https://spreadsheets.google.com/feeds',\n",
    "                 'https://www.googleapis.com/auth/drive']\n",
    "        json_file = token_dir + '/madup-355605-cd37b0ac201f.json'\n",
    "        credentials = ServiceAccountCredentials.from_json_keyfile_name(json_file, scope)\n",
    "        gc = gspread.authorize(credentials)\n",
    "        read = gc.open_by_url(url)\n",
    "        print('스프레드시트 읽기 완료')\n",
    "        return read\n",
    "    \n",
    "    def spread_sheet(self, doc, sheet_name, col_num=0, row_num=0):\n",
    "        while True :\n",
    "            try :\n",
    "                data_sheet = doc.worksheet(sheet_name)\n",
    "                data_sheet_read = data_sheet.get_all_values()\n",
    "                result = pd.DataFrame(data_sheet_read, columns=data_sheet_read[row_num]).iloc[row_num+1:, col_num:]\n",
    "            except :\n",
    "                print('API 오류로 15초 후 다시 시도 합니다.')\n",
    "                time.sleep(15)\n",
    "                continue\n",
    "            break\n",
    "        return result\n",
    "\n",
    "spreadsheet = spreadsheet()"
   ]
  },
  {
   "cell_type": "markdown",
   "id": "c1e25ad7",
   "metadata": {},
   "source": [
    "### 코드\n",
    "- 전처리 자동화를 위한 코드로 임의 수정을 하실 경우 복사본 생성하여 진행해주시길 바랍니다.\n",
    "- 혹 아래 이미지와 같은 형식의 오류가 발생할 경우 `!pip install 패키지명`형식의 코드 작성하여 실행해주시면 해당 패키지가 설치됩니다.\n",
    "    - <img src = 'https://ifh.cc/g/ymACFT.png' align='left'>"
   ]
  },
  {
   "cell_type": "markdown",
   "id": "14c99673",
   "metadata": {},
   "source": [
    "- 이외의 오류가 발생하거나 문제가 해결되지 않는 경우, 데컨팀에 문의주세요 :)"
   ]
  },
  {
   "cell_type": "code",
   "execution_count": null,
   "id": "104bc684",
   "metadata": {},
   "outputs": [],
   "source": [
    "# 패키지 설치 코드 (패키지 설치 오류 발생시 아래 코드 실행해주세요.)\n",
    "#!pip install seleniumㄴ\n",
    "#!pip install datetime\n",
    "#!pip install warnings"
   ]
  },
  {
   "cell_type": "markdown",
   "id": "dce33bf2",
   "metadata": {},
   "source": [
    "참조시트: https://docs.google.com/spreadsheets/d/14i42NrpnA_9k8nCgyc4Y5KssLP8tOOXUyzYw0un7qXY/edit#gid=211027705\n",
    "- 구글 스프레드 시트에 새로운 탭 광고주 명으로 생성한 후 url 리스트 작성\n",
    "- TOTAL 시트에 광고주 명, 문장 패턴 검색 체크, 검색 문구 (여러개인 경우 '/'로 구분) 작성\n",
    "\n",
    "위 작업을 모두 이행한 후 코드 실행해야 작업이 가능합니다."
   ]
  },
  {
   "cell_type": "code",
   "execution_count": null,
   "id": "90c1c4c9",
   "metadata": {},
   "outputs": [],
   "source": [
    "# 광고주 명 입력\n",
    "ADVERTISER = '잡코리아'"
   ]
  },
  {
   "cell_type": "code",
   "execution_count": null,
   "id": "ae7abc49",
   "metadata": {},
   "outputs": [],
   "source": [
    "import pandas as pd\n",
    "import numpy as np\n",
    "from selenium import webdriver\n",
    "from pytz import timezone\n",
    "import datetime\n",
    "\n",
    "\n",
    "doc = spreadsheet.spread_document_read(\"https://docs.google.com/spreadsheets/d/14i42NrpnA_9k8nCgyc4Y5KssLP8tOOXUyzYw0un7qXY/edit#gid=211027705\")\n",
    "result_dir = dr.download_dir\n",
    "\n",
    "\n",
    "def get_url_check_list(doc, ADVERTISER):\n",
    "    url_check_list = spreadsheet.spread_sheet(doc, ADVERTISER).reset_index(drop=True)\n",
    "    url_check_list = url_check_list[['id', 'url']].replace('', np.nan).dropna().reset_index(drop=True)\n",
    "\n",
    "    return url_check_list\n",
    "\n",
    "\n",
    "def link_validation_check(url_check_list, checker):\n",
    "    result_df = pd.DataFrame(columns=['id', 'url', 'checker'])\n",
    "    for index, row in url_check_list.iterrows():\n",
    "        driver = webdriver.Chrome(dr.dropbox_dir + '/광고사업부/데이터컨설팅/token/chromedriver')\n",
    "        url = row['url']\n",
    "        try:\n",
    "            print(url)\n",
    "            driver.get(url)\n",
    "            driver.implicitly_wait(500)\n",
    "            page_source = driver.page_source\n",
    "            for val in checker:\n",
    "                if val in page_source:\n",
    "                    row['checker'] = val\n",
    "                    result_df = result_df.append(row)\n",
    "        except Exception as e:\n",
    "            print(f'{e}\\n url 문제 발생:', url)\n",
    "        driver.quit()\n",
    "\n",
    "    return result_df\n",
    "\n",
    "\n",
    "def landing_expired_check(url_check_list):\n",
    "    landing_expired_result_df = pd.DataFrame(columns=['id', 'url'])\n",
    "    return landing_expired_result_df\n",
    "\n",
    "\n",
    "def redirect_check(url_check_list):\n",
    "    redirect_result_df = pd.DataFrame(columns=['id', 'url'])\n",
    "    return redirect_result_df\n",
    "\n",
    "\n",
    "def download_df(link_validation_result_df, landing_expired_result_df, redirect_result_df, result_dir):\n",
    "    time = datetime.datetime.now(timezone(\"Asia/Seoul\")).strftime(\"%y년_%m월_%d일_%H시\")\n",
    "    writer = pd.ExcelWriter(result_dir + f'/{ADVERTISER}_랜딩페이지_점검_{time}.xlsx', engine='xlsxwriter', engine_kwargs={'options': {'strings_to_urls': False}})\n",
    "    link_validation_result_df.to_excel(writer, sheet_name = 'link_validation_check', index=False)\n",
    "    # landing_expired_result_df.to_excel(writer, sheet_name='landing_expired_check', index=False)\n",
    "    # redirect_result_df.to_excel(writer, sheet_name='redirect_check', index=False)\n",
    "    writer.close()\n",
    "\n",
    "\n",
    "def landing_check_solution_exec(doc, ADVERTISER):\n",
    "    url_check_list = get_url_check_list(doc, ADVERTISER)\n",
    "\n",
    "    total_index = spreadsheet.spread_sheet(doc, 'TOTAL')\n",
    "    total_index = total_index.drop_duplicates('업체명', keep='last')\n",
    "    index = total_index.loc[total_index['업체명'] == ADVERTISER].reset_index(drop=True)\n",
    "\n",
    "    link_validation_result_df = pd.DataFrame(columns=['id', 'url'])\n",
    "    landing_expired_result_df = pd.DataFrame(columns=['id', 'url'])\n",
    "    redirect_result_df = pd.DataFrame(columns=['id', 'url'])\n",
    "    if index['문장 패턴 검색'].values == 'TRUE':\n",
    "        checker = index['검색 문구'][0].split('/')\n",
    "        link_validation_result_df = link_validation_check(url_check_list, checker)\n",
    "    elif index['접속 불가 점검(미구현)'].values == 'TRUE':\n",
    "        landing_expired_result_df = landing_expired_check(url_check_list)\n",
    "    elif index['리다이렉트 점검(미구현)'].values == 'TRUE':\n",
    "        redirect_result_df = redirect_check(url_check_list)\n",
    "\n",
    "    download_df(link_validation_result_df, landing_expired_result_df, redirect_result_df, result_dir)\n",
    "\n",
    "\n",
    "landing_check_solution_exec(doc, ADVERTISER)"
   ]
  },
  {
   "cell_type": "code",
   "execution_count": null,
   "id": "6e77751d",
   "metadata": {},
   "outputs": [],
   "source": []
  }
 ],
 "metadata": {
  "kernelspec": {
   "display_name": "Python 3 (ipykernel)",
   "language": "python",
   "name": "python3"
  },
  "language_info": {
   "codemirror_mode": {
    "name": "ipython",
    "version": 3
   },
   "file_extension": ".py",
   "mimetype": "text/x-python",
   "name": "python",
   "nbconvert_exporter": "python",
   "pygments_lexer": "ipython3",
   "version": "3.9.12"
  }
 },
 "nbformat": 4,
 "nbformat_minor": 5
}
