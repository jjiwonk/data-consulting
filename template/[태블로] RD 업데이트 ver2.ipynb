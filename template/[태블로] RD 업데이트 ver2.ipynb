{
 "cells": [
  {
   "cell_type": "markdown",
   "id": "1c12870a",
   "metadata": {},
   "source": [
    "# 태블로 RD 업데이트"
   ]
  },
  {
   "cell_type": "markdown",
   "id": "4f604195",
   "metadata": {},
   "source": [
    "### 디렉토리 설정\n",
    "- 아래 각 변수에 해당하는 알맞은 경로를 찾아 입력해주세요.\n",
    "- 경로 주소는 '.../.../...' 형식을 따라주세요."
   ]
  },
  {
   "cell_type": "code",
   "execution_count": 9,
   "id": "ac88145a",
   "metadata": {},
   "outputs": [],
   "source": [
    "class directory:\n",
    "    dropbox_dir = 'C:/Users/MADUP/Dropbox (주식회사매드업)'\n",
    "    # 드롭박스 폴더 위치경로\n",
    "    \n",
    "    raw_dir = dropbox_dir + ''\n",
    "    # raw_data가 적재되어 있는 폴더 위치경로\n",
    "    \n",
    "    download_dir = 'C:/Users/MADUP/Downloads'\n",
    "    # 최종 결과파일을 다운받을 폴더 위치경로\n",
    "\n",
    "dr = directory()"
   ]
  },
  {
   "cell_type": "markdown",
   "id": "19638284",
   "metadata": {},
   "source": [
    "### 날짜 설정\n",
    "- 보통 작일자 기준으로 요청주신 기간의 데이터를 출력하게 됩니다.\n",
    "- 날짜 조정이 필요한 경우 아래 변수 값을 수정하여 출력해주세요."
   ]
  },
  {
   "cell_type": "code",
   "execution_count": 10,
   "id": "bc1a2c64",
   "metadata": {},
   "outputs": [],
   "source": [
    "import datetime\n",
    "\n",
    "class report_date:\n",
    "    today = datetime.date.today()\n",
    "    # 오늘 날짜 ex> 2022-09-14\n",
    "    \n",
    "    #today = datetime.date(year = 2022, month = 9, day = 1)\n",
    "    # 다른 일자를 기준으로 추출하고 싶은 경우 위 코드 수정 및 주석해제\n",
    "    \n",
    "    day_1 = today - datetime.timedelta(1)\n",
    "    # 전일자 ex> 2022-09-13\n",
    "    \n",
    "    start_day = datetime.date(year=day_1.year, month=day_1.month, day=1)\n",
    "    # 금월 첫 1일자 ex> 2022-09-01\n",
    "    \n",
    "    yearmonth = day_1.strftime('%Y%m')\n",
    "    # 년월 ex> 202209\n",
    "    \n",
    "    month_name = str(day_1.month) + '월'\n",
    "    # 금월 ex> 9월\n",
    "\n",
    "rdate = report_date()"
   ]
  },
  {
   "cell_type": "markdown",
   "id": "bf6e77c3",
   "metadata": {},
   "source": [
    "### 구글 스프레드 시트 읽기\n",
    "- 특정 구글 스프레드 시트를 읽어오기 위해 활용하는 메소드 모음입니다.\n",
    "- dcteam@madup-355605.iam.gserviceaccount.com 계정에 참조하고자 하는 구글 시트 공유가 필요합니다."
   ]
  },
  {
   "cell_type": "code",
   "execution_count": 11,
   "id": "abc5c083",
   "metadata": {},
   "outputs": [],
   "source": [
    "from oauth2client.service_account import ServiceAccountCredentials\n",
    "import gspread\n",
    "import pandas as pd\n",
    "import time\n",
    "\n",
    "\n",
    "class spreadsheet:\n",
    "    def spread_document_read(self, url):\n",
    "        token_dir = dr.dropbox_dir + '/광고사업부/데이터컨설팅/token'\n",
    "        \n",
    "        scope = ['https://spreadsheets.google.com/feeds',\n",
    "                 'https://www.googleapis.com/auth/drive']\n",
    "        json_file = token_dir + '/madup-355605-cd37b0ac201f.json'\n",
    "        credentials = ServiceAccountCredentials.from_json_keyfile_name(json_file, scope)\n",
    "        gc = gspread.authorize(credentials)\n",
    "        read = gc.open_by_url(url)\n",
    "        print('스프레드시트 읽기 완료')\n",
    "        return read\n",
    "    \n",
    "    def spread_sheet(self, doc, sheet_name, col_num=0, row_num=0):\n",
    "        while True :\n",
    "            try :\n",
    "                data_sheet = doc.worksheet(sheet_name)\n",
    "                data_sheet_read = data_sheet.get_all_values()\n",
    "                result = pd.DataFrame(data_sheet_read, columns=data_sheet_read[row_num]).iloc[row_num+1:, col_num:]\n",
    "            except :\n",
    "                print('API 오류로 15초 후 다시 시도 합니다.')\n",
    "                time.sleep(15)\n",
    "                continue\n",
    "            break\n",
    "        return result\n",
    "\n",
    "spreadsheet = spreadsheet()"
   ]
  },
  {
   "cell_type": "markdown",
   "id": "f1440501",
   "metadata": {},
   "source": [
    "### 기타 설정\n",
    "- 스프레드 시트 연동\n",
    "- 태블로 설정 값 연동"
   ]
  },
  {
   "cell_type": "code",
   "execution_count": 12,
   "id": "0a902690",
   "metadata": {},
   "outputs": [
    {
     "name": "stdout",
     "output_type": "stream",
     "text": [
      "스프레드시트 읽기 완료\n",
      "스프레드시트 읽기 완료\n"
     ]
    }
   ],
   "source": [
    "class document():\n",
    "    doc = spreadsheet.spread_document_read(\n",
    "        'https://docs.google.com/spreadsheets/d/1efQrJpglhz0K9wKkl2QZ5VLrMu_hIUUnPG_uTSeI1Hk/edit#gid=2008544363')\n",
    "    # 캠페인 정보 관리 시트 불러오기\n",
    "    campaign_doc = spreadsheet.spread_document_read(\n",
    "        'https://docs.google.com/spreadsheets/d/1w23AdEYLf4OJDlTElf2vwbVPttctSx-2nB51ZHQDEJQ/edit#gid=0')\n",
    "    \n",
    "class tableau_info():\n",
    "    account_name = '쏘카'\n",
    "    result_name = 'socar'\n",
    "\n",
    "    raw_dir = dr.dropbox_dir + '/광고사업부/데이터컨설팅/Tableau/RD'\n",
    "    asset_dir = dr.dropbox_dir + '/광고사업부/데이터컨설팅/Tableau/asset'\n",
    "    result_dir = dr.dropbox_dir + '/광고사업부/데이터컨설팅/Tableau/result'"
   ]
  },
  {
   "cell_type": "markdown",
   "id": "c1e25ad7",
   "metadata": {},
   "source": [
    "### 코드\n",
    "- 전처리 자동화를 위한 코드로 임의 수정을 하실 경우 복사본 생성하여 진행해주시길 바랍니다.\n",
    "- 혹 아래 이미지와 같은 형식의 오류가 발생할 경우 `!pip install [패키지명]`형식의 코드 작성하여 실행해주시면 해당 패키지가 설치됩니다.\n",
    "    - <img src = 'https://ifh.cc/g/ymACFT.png' align='left'>"
   ]
  },
  {
   "cell_type": "markdown",
   "id": "14c99673",
   "metadata": {},
   "source": [
    "- 이외의 오류가 발생하거나 문제가 해결되지 않는 경우, 데컨팀에 문의주세요 :)"
   ]
  },
  {
   "cell_type": "code",
   "execution_count": 13,
   "id": "104bc684",
   "metadata": {},
   "outputs": [],
   "source": [
    "# 패키지 설치 코드 (패키지 설치 오류 발생시 아래 코드 실행해주세요.)\n",
    "# !pip install pyarrow\n",
    "# !pip install datetime"
   ]
  },
  {
   "cell_type": "code",
   "execution_count": 14,
   "id": "ae7abc49",
   "metadata": {},
   "outputs": [],
   "source": [
    "import warnings\n",
    "warnings.filterwarnings('ignore')\n",
    "\n",
    "# 자동화 코드 복사 붙여넣기"
   ]
  },
  {
   "cell_type": "markdown",
   "id": "c35b6085",
   "metadata": {},
   "source": [
    "---"
   ]
  },
  {
   "cell_type": "code",
   "execution_count": 15,
   "id": "8b7be856",
   "metadata": {},
   "outputs": [],
   "source": [
    "import pandas as pd\n",
    "\n",
    "def tableau_custom_sheet(doc):\n",
    "    # 태블로 대시보드 컬럼 설정 불러오기\n",
    "    sheet_data = spreadsheet.spread_sheet(doc, tableau_info.account_name)\n",
    "    return sheet_data\n",
    "\n",
    "def get_column_dict(sheet_data):\n",
    "    sheet_data_column = sheet_data.loc[sheet_data['원본 리포트 기준']!= '입력 금지', ['원본 리포트 기준', '태블로 RD']]\n",
    "    sheet_data_column = sheet_data_column.loc[sheet_data_column['원본 리포트 기준']!='']\n",
    "    column_dict = dict(zip(sheet_data_column['원본 리포트 기준'], sheet_data_column['태블로 RD']))\n",
    "    return column_dict\n",
    "\n",
    "def client_rd_read(column_dict, encoding = 'utf-8-sig'):\n",
    "    use_cols = column_dict.keys()\n",
    "    ## 광고주 리포트 데이터 가져오기\n",
    "    raw_data = pd.read_csv(tableau_info.raw_dir + f'/{tableau_info.account_name}/{tableau_info.result_name}_{rdate.yearmonth}.csv',\n",
    "                           usecols=use_cols, encoding=encoding)\n",
    "\n",
    "    raw_data = raw_data.rename(columns=column_dict)\n",
    "    raw_data = raw_data.loc[pd.to_datetime(raw_data['날짜']).dt.month == rdate.day_1.month]\n",
    "\n",
    "    # string to numeric\n",
    "    value_columns = ['도달', '노출', '클릭', '비용', '구매', '매출', '첫구매', '첫구매 매출', '설치', '재설치', '재실행', '가입']\n",
    "    columns = raw_data.columns\n",
    "\n",
    "    for col in value_columns:\n",
    "        if col in columns:\n",
    "            raw_data[col] = raw_data[col].fillna(0)\n",
    "            if raw_data[col].dtypes == 'object':\n",
    "                raw_data[col] = raw_data[col].str.strip()\n",
    "                raw_data[col] = raw_data[col].str.replace('-', '0')\n",
    "                raw_data[col] = raw_data[col].str.replace(',', '')\n",
    "                raw_data[col] = pd.to_numeric(raw_data[col])\n",
    "\n",
    "    return raw_data\n",
    "\n",
    "def campaign_info_sheet(campaign_doc):\n",
    "\n",
    "    campaign_sheet = spreadsheet.spread_sheet(campaign_doc, '캠페인 정보')\n",
    "    campaign_sheet = campaign_sheet.loc[campaign_sheet['광고주'] == tableau_info.account_name]\n",
    "    campaign_sheet = campaign_sheet.loc[campaign_sheet['매체'].isin(['페이스북', '카카오', '구글'])]\n",
    "    campaign_sheet = campaign_sheet[\n",
    "        ['매체', '광고 상품', '캠페인', '광고그룹', '최적화 엔진', '캠페인 구분', '오디언스', 'OS', 'KPI', '캠페인 라벨']]\n",
    "    campaign_sheet = campaign_sheet.drop_duplicates(['매체', '캠페인', '광고그룹'], keep='last')\n",
    "    return campaign_sheet\n",
    "\n",
    "    # 컬럼명 기준 딕셔너리 생성\n",
    "\n",
    "def data_exception(raw_data, doc):\n",
    "    # 매체별 필터 기준\n",
    "    facebook_list = list(sheet_data.loc[sheet_data['페이스북 필터'].str.len() > 0, '페이스북 필터'])\n",
    "    kakao_list = list(sheet_data.loc[sheet_data['카카오 필터'].str.len() > 0, '카카오 필터'])\n",
    "    google_list = list(sheet_data.loc[sheet_data['구글 필터'].str.len() > 0, '구글 필터'])\n",
    "\n",
    "    if len(facebook_list) != 0 :\n",
    "        raw_data.loc[raw_data['매체'].isin(facebook_list), '매체'] = '페이스북'\n",
    "    if len(kakao_list) != 0 :\n",
    "        raw_data.loc[raw_data['매체'].isin(kakao_list), '매체'] = '카카오'\n",
    "    if len(google_list) != 0:\n",
    "        raw_data.loc[raw_data['매체'].isin(google_list), '매체'] = '구글'\n",
    "\n",
    "    # 예외처리 정보 불러오기\n",
    "    exception_sheet = spreadsheet.spread_sheet(doc, '예외처리')\n",
    "    exception_sheet = exception_sheet.loc[(exception_sheet['체크박스']=='TRUE')&(exception_sheet['광고주']==tableau_info.account_name)]\n",
    "    exception_sheet.index = range(0, len(exception_sheet))\n",
    "\n",
    "    for i in exception_sheet.index:\n",
    "        func = exception_sheet.iloc[i]['방식']\n",
    "        col = exception_sheet.iloc[i]['구분']\n",
    "        media = exception_sheet.iloc[i]['매체']\n",
    "        name = exception_sheet.iloc[i]['이름']\n",
    "        alt = exception_sheet.iloc[i]['대체 값']\n",
    "\n",
    "        if func == 'EXCLUDE':\n",
    "            raw_data = raw_data.loc[~((raw_data['매체']==media) & (raw_data[col]==name))]\n",
    "        elif func == 'REPLACE' :\n",
    "            raw_data.loc[((raw_data['매체'] == media) & (raw_data[col] == name)), name] = alt\n",
    "\n",
    "    #creative_raw = creative_raw.loc[creative_raw['매체'].isin(['페이스북', '카카오', '구글'])]\n",
    "    raw_data.loc[raw_data['매체']=='구글', '소재'] = raw_data['광고그룹']\n",
    "    return raw_data\n",
    "\n",
    "def asset_data_read(campaign_doc):\n",
    "    # 애셋 정보 불러오기\n",
    "    account_sheet = spreadsheet.spread_sheet(campaign_doc, 'Owner 정보')\n",
    "    account_sheet = account_sheet.rename(columns = {'Owner ID' : 'owner_id'})\n",
    "    account_sheet = account_sheet.drop_duplicates('owner_id')\n",
    "    asset_data = pd.read_csv(tableau_info.asset_dir + f'/total_asset_data_{rdate.yearmonth}.csv')\n",
    "    asset_data_merge = asset_data.merge(account_sheet, on ='owner_id', how='left')\n",
    "    asset_data_merge = asset_data_merge.loc[asset_data_merge['광고주']==tableau_info.account_name]\n",
    "    del asset_data_merge['owner_id'], asset_data_merge['광고주']\n",
    "    return asset_data_merge\n"
   ]
  },
  {
   "cell_type": "code",
   "execution_count": 16,
   "id": "10caa03e",
   "metadata": {},
   "outputs": [],
   "source": [
    "# 태블로 커스텀 정보 시트 불러오기\n",
    "sheet_data = tableau_custom_sheet(document.doc)\n",
    "\n",
    "# 원본 데이터 컬럼 <-> 태블로 템플릿용 데이터 컬럼 딕셔너리\n",
    "column_dict = get_column_dict(sheet_data)\n",
    "\n",
    "# 드롭박스에 적재된 광고주 리포트 RD 불러오기\n",
    "raw_data = client_rd_read(column_dict, 'cp949')\n",
    "\n",
    "# 캠페인 정보 시트 불러오기\n",
    "campaign_sheet = campaign_info_sheet(document.campaign_doc)\n",
    "\n",
    "# 리포트 RD 캠페인 정보 merge\n",
    "raw_data = raw_data.merge(campaign_sheet, on=['매체', '캠페인', '광고그룹'], how='left')\n",
    "\n",
    "# 데이터 예외처리\n",
    "except_raw = data_exception(raw_data, document.doc)\n",
    "\n",
    "# 소재 데이터 정보 불러오기\n",
    "asset_data_merge = asset_data_read(document.campaign_doc)\n",
    "\n",
    "# 리포트 RD <-> 소재 정보 merge\n",
    "raw_merge_final = except_raw.merge(asset_data_merge, on = ['매체', '캠페인', '광고그룹', '소재'], how = 'left')\n",
    "\n",
    "# 드롭박스 저장\n",
    "raw_merge_final.to_csv(tableau_info.result_dir + f'/{tableau_info.account_name}/tableau_creative_rd_{tableau_info.result_name}_{rdate.yearmonth}.csv', index=False, encoding='utf-8-sig')"
   ]
  },
  {
   "cell_type": "code",
   "execution_count": null,
   "id": "9a2a94bf",
   "metadata": {},
   "outputs": [],
   "source": []
  }
 ],
 "metadata": {
  "kernelspec": {
   "display_name": "Python 3 (ipykernel)",
   "language": "python",
   "name": "python3"
  },
  "language_info": {
   "codemirror_mode": {
    "name": "ipython",
    "version": 3
   },
   "file_extension": ".py",
   "mimetype": "text/x-python",
   "name": "python",
   "nbconvert_exporter": "python",
   "pygments_lexer": "ipython3",
   "version": "3.9.12"
  }
 },
 "nbformat": 4,
 "nbformat_minor": 5
}
