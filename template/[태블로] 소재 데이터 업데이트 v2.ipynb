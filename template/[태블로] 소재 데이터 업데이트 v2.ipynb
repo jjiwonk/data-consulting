{
 "cells": [
  {
   "cell_type": "markdown",
   "metadata": {},
   "source": [
    "# 디렉토리 설정"
   ]
  },
  {
   "cell_type": "code",
   "execution_count": 5,
   "metadata": {},
   "outputs": [],
   "source": [
    "dropbox_dir = 'D:/Dropbox (주식회사매드업)/광고사업부/데이터컨설팅/Tableau'\n",
    "asset_dir = dropbox_dir + '/asset'"
   ]
  },
  {
   "cell_type": "markdown",
   "metadata": {},
   "source": [
    "# 날짜 설정"
   ]
  },
  {
   "cell_type": "code",
   "execution_count": 2,
   "metadata": {},
   "outputs": [],
   "source": [
    "import datetime\n",
    "\n",
    "today = datetime.date.today()\n",
    "#today = datetime.date(2022,8,1)\n",
    "day_1 = today - datetime.timedelta(1)\n",
    "start_day = datetime.date(year = day_1.year, month=day_1.month, day=1)\n",
    "day_1_yearmonth = day_1.strftime('%Y%m')"
   ]
  },
  {
   "cell_type": "markdown",
   "metadata": {},
   "source": [
    "# 코드"
   ]
  },
  {
   "cell_type": "code",
   "execution_count": 8,
   "metadata": {},
   "outputs": [],
   "source": [
    "import pandas as pd\n",
    "import json\n",
    "import re\n",
    "import os\n",
    "\n",
    "\n",
    "status = 0\n",
    "\n",
    "try : \n",
    "    # 수정 날짜 확인\n",
    "    mtime = os.path.getmtime(asset_dir + f'/total_asset_data_{day_1_yearmonth}.csv')\n",
    "    \n",
    "    def unixtime(x) :\n",
    "        return datetime.datetime.fromtimestamp(int(x)).strftime('%Y-%m-%d')\n",
    "\n",
    "    mdate = unixtime(mtime)\n",
    "    \n",
    "    if today.strftime('%Y-%m-%d') == mdate : \n",
    "        pass\n",
    "    else : \n",
    "        status = 1\n",
    "except : \n",
    "    status = 1\n",
    "    pass\n",
    "\n",
    "if status != 1 :\n",
    "    raise Exception('오늘은 이미 다른 분이 업데이트를 하셨네요')\n",
    "else : \n",
    "    print('코드 실행 감사드립니다 업데이트 시작합니다!')\n",
    "\n",
    "## 페이스북\n",
    "facebook_img = pd.read_csv(asset_dir + f'/facebook_ad_image_asset_daily_report_{day_1_yearmonth}.csv', encoding= 'utf-8-sig')\n",
    "facebook_img = facebook_img.loc[pd.notnull(facebook_img['image_asset'])]\n",
    "facebook_img['소재 URL'] = facebook_img['image_asset'].apply(lambda x : json.loads(x)['url'] if x != '{}' else '')\n",
    "facebook_img['소재 유형'] = 'image'\n",
    "facebook_img = facebook_img[['owner_id', 'campaign_name', 'adset_name', 'ad_name', '소재 유형','소재 URL', 'collected_at']]\n",
    "\n",
    "facebook_vid = pd.read_csv(asset_dir + f'/facebook_ad_video_asset_daily_report_{day_1_yearmonth}.csv', encoding= 'utf-8-sig')\n",
    "facebook_vid = facebook_vid.loc[pd.notnull(facebook_vid['video_asset'])]\n",
    "facebook_vid['소재 URL'] = facebook_vid['video_asset'].apply(lambda x : 'https://facebook.com' + json.loads(x)['url'] if x != '{}' else '')\n",
    "facebook_vid['소재 유형'] = 'video'\n",
    "facebook_vid = facebook_vid[['owner_id', 'campaign_name', 'adset_name', 'ad_name', '소재 유형','소재 URL', 'collected_at']]\n",
    "\n",
    "facebook = pd.concat([facebook_img, facebook_vid], axis=0, ignore_index=True)\n",
    "facebook = facebook.rename(columns =\n",
    "                           {'campaign_name' : '캠페인',\n",
    "                            'adset_name' : '광고그룹',\n",
    "                            'ad_name' : '소재' })\n",
    "\n",
    "facebook = facebook.sort_values(['owner_id', '캠페인', '광고그룹', '소재', '소재 유형', 'collected_at'], ascending=[True, True, True, True, False, True])\n",
    "facebook = facebook.drop_duplicates(['owner_id', '캠페인', '광고그룹', '소재'], keep='last')\n",
    "facebook = facebook[['owner_id', '캠페인', '광고그룹', '소재', '소재 유형','소재 URL']]\n",
    "facebook['매체'] = '페이스북'\n",
    "\n",
    "## 카카오\n",
    "kakao = pd.read_csv(asset_dir + f'/kakao_all_creative_list_{day_1_yearmonth}.csv', encoding= 'utf-8-sig')\n",
    "kakao = kakao.loc[pd.notnull(kakao['image'])]\n",
    "kakao['소재 URL'] = kakao['image'].apply(lambda x : 'https:' + json.loads(x)['url'] if x != '{}' else '')\n",
    "kakao.columns\n",
    "\n",
    "kakao = kakao.rename(columns = {'campaign_name' : '캠페인', 'adgroup_name' : '광고그룹','creative_name' : '소재', 'format' : '소재 유형'})\n",
    "kakao = kakao[['owner_id', '캠페인', '광고그룹', '소재', '소재 유형','소재 URL']]\n",
    "kakao = kakao.drop_duplicates(['owner_id', '캠페인', '광고그룹', '소재'])\n",
    "kakao['매체'] = '카카오'\n",
    "\n",
    "## 구글\n",
    "google = pd.read_csv(asset_dir + f'/google_ads_asset_report_{day_1_yearmonth}.csv', encoding= 'utf-8-sig')\n",
    "asset_type_dict = {\n",
    "0 : 'BOOK_ON_GOOGLE',\n",
    "1 : 'CALL',\n",
    "2 : 'CALLOUT',\n",
    "3 : 'CALL_TO_ACTION',\n",
    "4 : 'DISCOVERY_CAROUSEL_CARD',\n",
    "5 : 'DYNAMIC_CUSTOM',\n",
    "6 : 'DYNAMIC_EDUCATION',\n",
    "7 : 'DYNAMIC_FLIGHTS',\n",
    "8 : 'DYNAMIC_HOTELS_AND_RENTALS',\n",
    "9 : 'DYNAMIC_JOBS',\n",
    "10 : 'DYNAMIC_LOCAL',\n",
    "11 : 'DYNAMIC_REAL_ESTATE',\n",
    "12 : 'DYNAMIC_TRAVEL',\n",
    "13 : 'HOTEL_CALLOUT',\n",
    "14 : 'IMAGE',\n",
    "15 : 'LEAD_FORM',\n",
    "16 : 'MEDIA_BUNDLE',\n",
    "17 : 'MOBILE_APP',\n",
    "18 : 'PAGE_FEED',\n",
    "19 : 'PRICE',\n",
    "20 : 'PROMOTION',\n",
    "21 : 'SITELINK',\n",
    "22 : 'STRUCTURED_SNIPPET',\n",
    "23 : 'TEXT',\n",
    "24 : 'UNKNOWN',\n",
    "25 : 'UNSPECIFIED',\n",
    "26 : 'YOUTUBE_VIDEO'\n",
    "}\n",
    "google = google.loc[pd.notnull(google['asset_image_asset_full_size_url'])]\n",
    "google['asset_type'] = google['asset_type'].apply(lambda x : asset_type_dict.get(x))\n",
    "google = google.rename(columns = {\n",
    "    'campaign_name' : '캠페인',\n",
    "    'ad_group_name' : '광고그룹',\n",
    "    'asset_image_asset_full_size_url' : '소재 URL',\n",
    "    'asset_type' : '소재 유형'})\n",
    "\n",
    "google = google.drop_duplicates(['캠페인', '광고그룹'])\n",
    "google['소재'] = google['광고그룹']\n",
    "google = google[['owner_id', '캠페인', '광고그룹', '소재', '소재 유형','소재 URL']]\n",
    "google['매체'] = '구글'\n",
    "\n",
    "asset_data = pd.concat([facebook, kakao, google], sort=False, ignore_index=True)\n",
    "asset_data.to_csv(asset_dir + f'/total_asset_data_{day_1_yearmonth}.csv', index=False, encoding='utf-8-sig')"
   ]
  },
  {
   "cell_type": "code",
   "execution_count": null,
   "metadata": {},
   "outputs": [],
   "source": []
  }
 ],
 "metadata": {
  "kernelspec": {
   "display_name": "Python 3 (ipykernel)",
   "language": "python",
   "name": "python3"
  },
  "language_info": {
   "codemirror_mode": {
    "name": "ipython",
    "version": 3
   },
   "file_extension": ".py",
   "mimetype": "text/x-python",
   "name": "python",
   "nbconvert_exporter": "python",
   "pygments_lexer": "ipython3",
   "version": "3.9.12"
  }
 },
 "nbformat": 4,
 "nbformat_minor": 2
}
