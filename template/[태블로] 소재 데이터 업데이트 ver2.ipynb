{
 "cells": [
  {
   "cell_type": "markdown",
   "id": "1c12870a",
   "metadata": {},
   "source": [
    "# 태블로 RD 업데이트"
   ]
  },
  {
   "cell_type": "markdown",
   "id": "4f604195",
   "metadata": {},
   "source": [
    "### 디렉토리 설정\n",
    "- 아래 각 변수에 해당하는 알맞은 경로를 찾아 입력해주세요.\n",
    "- 경로 주소는 '.../.../...' 형식을 따라주세요."
   ]
  },
  {
   "cell_type": "code",
   "execution_count": 39,
   "id": "ac88145a",
   "metadata": {},
   "outputs": [],
   "source": [
    "class directory:\n",
    "    dropbox_dir = 'C:/Users/MADUP/Dropbox (주식회사매드업)'\n",
    "    # 드롭박스 폴더 위치경로\n",
    "    \n",
    "    raw_dir = dropbox_dir + ''\n",
    "    # raw_data가 적재되어 있는 폴더 위치경로\n",
    "    \n",
    "    download_dir = 'C:/Users/MADUP/Downloads'\n",
    "    # 최종 결과파일을 다운받을 폴더 위치경로\n",
    "\n",
    "dr = directory()"
   ]
  },
  {
   "cell_type": "markdown",
   "id": "92d6926d",
   "metadata": {},
   "source": [
    "### 날짜 설정\n",
    "- 보통 작일자 기준으로 요청주신 기간의 데이터를 출력하게 됩니다.\n",
    "- 날짜 조정이 필요한 경우 아래 변수 값을 수정하여 출력해주세요."
   ]
  },
  {
   "cell_type": "code",
   "execution_count": 40,
   "id": "bc1a2c64",
   "metadata": {},
   "outputs": [],
   "source": [
    "import datetime\n",
    "\n",
    "class report_date:\n",
    "    today = datetime.date.today()\n",
    "    # 오늘 날짜 ex> 2022-09-14\n",
    "    \n",
    "    #today = datetime.date(year = 2022, month = 9, day = 1)\n",
    "    # 다른 일자를 기준으로 추출하고 싶은 경우 위 코드 수정 및 주석해제\n",
    "    \n",
    "    day_1 = today - datetime.timedelta(1)\n",
    "    # 전일자 ex> 2022-09-13\n",
    "    \n",
    "    start_day = datetime.date(year=day_1.year, month=day_1.month, day=1)\n",
    "    # 금월 첫 1일자 ex> 2022-09-01\n",
    "    \n",
    "    yearmonth = day_1.strftime('%Y%m')\n",
    "    # 년월 ex> 202209\n",
    "    \n",
    "    month_name = str(day_1.month) + '월'\n",
    "    # 금월 ex> 9월\n",
    "\n",
    "rdate = report_date()"
   ]
  },
  {
   "cell_type": "markdown",
   "id": "f617f92c",
   "metadata": {},
   "source": [
    "### 기타 설정\n",
    "- 스프레드 시트 연동\n",
    "- 태블로 설정 값 연동"
   ]
  },
  {
   "cell_type": "code",
   "execution_count": 41,
   "id": "6276731e",
   "metadata": {},
   "outputs": [
    {
     "name": "stdout",
     "output_type": "stream",
     "text": [
      "스프레드시트 읽기 완료\n",
      "스프레드시트 읽기 완료\n"
     ]
    }
   ],
   "source": [
    "class document():\n",
    "    doc = spreadsheet.spread_document_read(\n",
    "        'https://docs.google.com/spreadsheets/d/1efQrJpglhz0K9wKkl2QZ5VLrMu_hIUUnPG_uTSeI1Hk/edit#gid=2008544363')\n",
    "    # 캠페인 정보 관리 시트 불러오기\n",
    "    campaign_doc = spreadsheet.spread_document_read(\n",
    "        'https://docs.google.com/spreadsheets/d/1w23AdEYLf4OJDlTElf2vwbVPttctSx-2nB51ZHQDEJQ/edit#gid=0')\n",
    "    \n",
    "class tableau_info():\n",
    "    account_name = '쏘카'\n",
    "    result_name = 'socar'\n",
    "\n",
    "    raw_dir = dr.dropbox_dir + '/광고사업부/데이터컨설팅/Tableau/RD'\n",
    "    asset_dir = dr.dropbox_dir + '/광고사업부/데이터컨설팅/Tableau/asset'\n",
    "    result_dir = dr.dropbox_dir + '/광고사업부/데이터컨설팅/Tableau/result'"
   ]
  },
  {
   "cell_type": "markdown",
   "id": "c1e25ad7",
   "metadata": {},
   "source": [
    "### 코드\n",
    "- 전처리 자동화를 위한 코드로 임의 수정을 하실 경우 복사본 생성하여 진행해주시길 바랍니다.\n",
    "- 혹 아래 이미지와 같은 형식의 오류가 발생할 경우 `!pip install [패키지명]`형식의 코드 작성하여 실행해주시면 해당 패키지가 설치됩니다.\n",
    "    - <img src = 'https://ifh.cc/g/ymACFT.png' align='left'>"
   ]
  },
  {
   "cell_type": "markdown",
   "id": "14c99673",
   "metadata": {},
   "source": [
    "- 이외의 오류가 발생하거나 문제가 해결되지 않는 경우, 데컨팀에 문의주세요 :)"
   ]
  },
  {
   "cell_type": "code",
   "execution_count": 42,
   "id": "104bc684",
   "metadata": {},
   "outputs": [],
   "source": [
    "# 패키지 설치 코드 (패키지 설치 오류 발생시 아래 코드 실행해주세요.)\n",
    "# !pip install pyarrow\n",
    "# !pip install datetime"
   ]
  },
  {
   "cell_type": "code",
   "execution_count": 43,
   "id": "ae7abc49",
   "metadata": {},
   "outputs": [],
   "source": [
    "import warnings\n",
    "warnings.filterwarnings('ignore')\n",
    "\n",
    "# 자동화 코드 복사 붙여넣기"
   ]
  },
  {
   "cell_type": "markdown",
   "id": "c35b6085",
   "metadata": {},
   "source": [
    "---"
   ]
  },
  {
   "cell_type": "code",
   "execution_count": 44,
   "id": "8b7be856",
   "metadata": {},
   "outputs": [],
   "source": [
    "import pandas as pd\n",
    "import json\n",
    "import os\n",
    "import datetime\n",
    "\n",
    "asset_dir = dr.dropbox_dir + '/광고사업부/데이터컨설팅/Tableau/asset'\n",
    "\n",
    "def modify_check():\n",
    "    try :\n",
    "        # 수정 날짜 확인\n",
    "        mtime = os.path.getmtime(asset_dir + f'/total_asset_data_{rdate.yearmonth}.csv')\n",
    "\n",
    "        def unixtime(x):\n",
    "            return datetime.datetime.fromtimestamp(int(x)).strftime('%Y-%m-%d')\n",
    "\n",
    "        mdate = unixtime(mtime)\n",
    "\n",
    "        if rdate.today.strftime('%Y-%m-%d') == mdate:\n",
    "            print('오늘은 이미 다른 분이 업데이트를 하셨네요')\n",
    "            return 1\n",
    "        else:\n",
    "            print('코드 실행 감사드립니다 업데이트 시작합니다!')\n",
    "            return 0\n",
    "    except :\n",
    "        print('코드 실행 감사드립니다 업데이트 시작합니다!')\n",
    "        return 0\n",
    "\n",
    "def facebook_read():\n",
    "    ## 페이스북\n",
    "    facebook_img = pd.read_csv(asset_dir + f'/facebook_ad_image_asset_daily_report_{rdate.yearmonth}.csv',\n",
    "                               encoding='utf-8-sig')\n",
    "    facebook_img = facebook_img.loc[pd.notnull(facebook_img['image_asset'])]\n",
    "    facebook_img['소재 URL'] = facebook_img['image_asset'].apply(lambda x: json.loads(x)['url'] if x != '{}' else '')\n",
    "    facebook_img['소재 유형'] = 'image'\n",
    "    facebook_img = facebook_img[['owner_id', 'campaign_name', 'adset_name', 'ad_name', '소재 유형', '소재 URL', 'collected_at']]\n",
    "\n",
    "    facebook_vid = pd.read_csv(asset_dir + f'/facebook_ad_video_asset_daily_report_{rdate.yearmonth}.csv',\n",
    "                               encoding='utf-8-sig')\n",
    "    facebook_vid = facebook_vid.loc[pd.notnull(facebook_vid['video_asset'])]\n",
    "    facebook_vid['소재 URL'] = facebook_vid['video_asset'].apply(\n",
    "        lambda x: 'https://facebook.com' + json.loads(x)['url'] if x != '{}' else '')\n",
    "    facebook_vid['소재 유형'] = 'video'\n",
    "    facebook_vid = facebook_vid[['owner_id', 'campaign_name', 'adset_name', 'ad_name', '소재 유형', '소재 URL', 'collected_at']]\n",
    "\n",
    "    facebook = pd.concat([facebook_img, facebook_vid], axis=0, ignore_index=True)\n",
    "    facebook = facebook.rename(columns=\n",
    "                               {'campaign_name': '캠페인',\n",
    "                                'adset_name': '광고그룹',\n",
    "                                'ad_name': '소재'})\n",
    "\n",
    "    facebook = facebook.sort_values(['owner_id', '캠페인', '광고그룹', '소재', '소재 유형', 'collected_at'],\n",
    "                                    ascending=[True, True, True, True, False, True])\n",
    "    facebook = facebook.drop_duplicates(['owner_id', '캠페인', '광고그룹', '소재'], keep='last')\n",
    "    facebook = facebook[['owner_id', '캠페인', '광고그룹', '소재', '소재 유형', '소재 URL']]\n",
    "    facebook['매체'] = '페이스북'\n",
    "    return facebook\n",
    "\n",
    "def kakao_read():\n",
    "    ## 카카오\n",
    "    kakao = pd.read_csv(asset_dir + f'/kakao_all_creative_list_{rdate.yearmonth}.csv', encoding= 'utf-8-sig')\n",
    "    kakao = kakao.loc[pd.notnull(kakao['image'])]\n",
    "    kakao['소재 URL'] = kakao['image'].apply(lambda x : 'https:' + json.loads(x)['url'] if x != '{}' else '')\n",
    "    kakao.columns\n",
    "\n",
    "    kakao = kakao.rename(columns = {'campaign_name' : '캠페인', 'adgroup_name' : '광고그룹','creative_name' : '소재', 'format' : '소재 유형'})\n",
    "    kakao = kakao[['owner_id', '캠페인', '광고그룹', '소재', '소재 유형','소재 URL']]\n",
    "    kakao = kakao.drop_duplicates(['owner_id', '캠페인', '광고그룹', '소재'])\n",
    "    kakao['매체'] = '카카오'\n",
    "    return kakao\n",
    "\n",
    "def google_read():\n",
    "    ## 구글\n",
    "    google = pd.read_csv(asset_dir + f'/google_ads_asset_report_{rdate.yearmonth}.csv', encoding= 'utf-8-sig')\n",
    "    asset_type_dict = {\n",
    "    0 : 'BOOK_ON_GOOGLE',\n",
    "    1 : 'CALL',\n",
    "    2 : 'CALLOUT',\n",
    "    3 : 'CALL_TO_ACTION',\n",
    "    4 : 'DISCOVERY_CAROUSEL_CARD',\n",
    "    5 : 'DYNAMIC_CUSTOM',\n",
    "    6 : 'DYNAMIC_EDUCATION',\n",
    "    7 : 'DYNAMIC_FLIGHTS',\n",
    "    8 : 'DYNAMIC_HOTELS_AND_RENTALS',\n",
    "    9 : 'DYNAMIC_JOBS',\n",
    "    10 : 'DYNAMIC_LOCAL',\n",
    "    11 : 'DYNAMIC_REAL_ESTATE',\n",
    "    12 : 'DYNAMIC_TRAVEL',\n",
    "    13 : 'HOTEL_CALLOUT',\n",
    "    14 : 'IMAGE',\n",
    "    15 : 'LEAD_FORM',\n",
    "    16 : 'MEDIA_BUNDLE',\n",
    "    17 : 'MOBILE_APP',\n",
    "    18 : 'PAGE_FEED',\n",
    "    19 : 'PRICE',\n",
    "    20 : 'PROMOTION',\n",
    "    21 : 'SITELINK',\n",
    "    22 : 'STRUCTURED_SNIPPET',\n",
    "    23 : 'TEXT',\n",
    "    24 : 'UNKNOWN',\n",
    "    25 : 'UNSPECIFIED',\n",
    "    26 : 'YOUTUBE_VIDEO'\n",
    "    }\n",
    "    google = google.loc[pd.notnull(google['asset_image_asset_full_size_url'])]\n",
    "    google['asset_type'] = google['asset_type'].apply(lambda x : asset_type_dict.get(x))\n",
    "    google = google.rename(columns = {\n",
    "        'campaign_name' : '캠페인',\n",
    "        'ad_group_name' : '광고그룹',\n",
    "        'asset_image_asset_full_size_url' : '소재 URL',\n",
    "        'asset_type' : '소재 유형'})\n",
    "\n",
    "    google = google.drop_duplicates(['캠페인', '광고그룹'])\n",
    "    google['소재'] = google['광고그룹']\n",
    "    google = google[['owner_id', '캠페인', '광고그룹', '소재', '소재 유형','소재 URL']]\n",
    "    google['매체'] = '구글'\n",
    "    return google"
   ]
  },
  {
   "cell_type": "code",
   "execution_count": 45,
   "id": "10caa03e",
   "metadata": {},
   "outputs": [
    {
     "name": "stdout",
     "output_type": "stream",
     "text": [
      "오늘은 이미 다른 분이 업데이트를 하셨네요\n"
     ]
    }
   ],
   "source": [
    "if modify_check() == 1:\n",
    "    pass\n",
    "else :\n",
    "    facebook = facebook_read()\n",
    "    kakao = kakao_read()\n",
    "    google = google_read()\n",
    "\n",
    "    asset_data = pd.concat([facebook, kakao, google], sort=False, ignore_index=True)\n",
    "    asset_data.to_csv(asset_dir + f'/total_asset_data_{rdate.yearmonth}.csv', index=False, encoding='utf-8-sig')\n",
    "    print('업데이트가 완료되었습니다.')"
   ]
  },
  {
   "cell_type": "code",
   "execution_count": 46,
   "id": "b200e6c7",
   "metadata": {},
   "outputs": [
    {
     "name": "stdout",
     "output_type": "stream",
     "text": [
      "업데이트가 완료되었습니다.\n"
     ]
    }
   ],
   "source": [
    "facebook = facebook_read()\n",
    "kakao = kakao_read()\n",
    "google = google_read()\n",
    "\n",
    "asset_data = pd.concat([facebook, kakao, google], sort=False, ignore_index=True)\n",
    "asset_data.to_csv(asset_dir + f'/total_asset_data_{rdate.yearmonth}.csv', index=False, encoding='utf-8-sig')\n",
    "print('업데이트가 완료되었습니다.')"
   ]
  },
  {
   "cell_type": "code",
   "execution_count": null,
   "id": "4f9700fc",
   "metadata": {},
   "outputs": [],
   "source": []
  }
 ],
 "metadata": {
  "kernelspec": {
   "display_name": "Python 3 (ipykernel)",
   "language": "python",
   "name": "python3"
  },
  "language_info": {
   "codemirror_mode": {
    "name": "ipython",
    "version": 3
   },
   "file_extension": ".py",
   "mimetype": "text/x-python",
   "name": "python",
   "nbconvert_exporter": "python",
   "pygments_lexer": "ipython3",
   "version": "3.9.12"
  }
 },
 "nbformat": 4,
 "nbformat_minor": 5
}
