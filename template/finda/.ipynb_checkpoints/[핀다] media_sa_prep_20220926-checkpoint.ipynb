{
 "cells": [
  {
   "cell_type": "markdown",
   "id": "1c12870a",
   "metadata": {},
   "source": [
    "# finda_media_sa_prep_20220926"
   ]
  },
  {
   "cell_type": "markdown",
   "id": "4f604195",
   "metadata": {},
   "source": [
    "### 디렉토리 설정\n",
    "- 아래 각 변수에 해당하는 알맞은 경로를 찾아 입력해주세요.\n",
    "- 경로 주소는 '.../.../...' 형식을 따라주세요."
   ]
  },
  {
   "cell_type": "code",
   "execution_count": null,
   "id": "ac88145a",
   "metadata": {},
   "outputs": [],
   "source": [
    "class directory:\n",
    "    dropbox_dir = 'C:/Users/MADUP/Dropbox (주식회사매드업)'\n",
    "    # 드롭박스 폴더 위치경로\n",
    "    \n",
    "    download_dir = dropbox_dir  + '/광고사업부/4. 광고주/핀다_7팀/2. 리포트/데일리리포트_오토&SA/SA 앱스플라이어 가공/SA 매체자동화리포트'\n",
    "    # 최종 결과파일을 다운받을 폴더 위치경로\n",
    "\n",
    "dr = directory()"
   ]
  },
  {
   "cell_type": "markdown",
   "id": "bf6e77c3",
   "metadata": {},
   "source": [
    "### 날짜 설정\n",
    "- 보통 작일자 기준으로 요청주신 기간의 데이터를 출력하게 됩니다.\n",
    "- 날짜 조정이 필요한 경우 아래 변수 값을 수정하여 출력해주세요."
   ]
  },
  {
   "cell_type": "code",
   "execution_count": null,
   "id": "bc1a2c64",
   "metadata": {},
   "outputs": [],
   "source": [
    "import datetime\n",
    "\n",
    "class report_date:\n",
    "    today = datetime.date.today()\n",
    "    # 오늘 날짜 ex> 2022-09-14\n",
    "    \n",
    "    # today = datetime.date(year = 2022, month = 8, day = 12)\n",
    "    # 다른 일자를 기준으로 추출하고 싶은 경우 위 코드 수정 및 주석해제\n",
    "    \n",
    "    day_1 = today - datetime.timedelta(1)\n",
    "    # 전일자 ex> 2022-09-13\n",
    "    \n",
    "    start_day = datetime.date(year=day_1.year, month=day_1.month, day=1)\n",
    "    # 금월 첫 1일자 ex> 2022-09-01\n",
    "    \n",
    "    yearmonth = day_1.strftime('%Y%m')\n",
    "    # 년월 ex> 202209\n",
    "    \n",
    "    month_name = str(day_1.month) + '월'\n",
    "    # 금월 ex> 9월\n",
    "\n",
    "rdate = report_date()"
   ]
  },
  {
   "cell_type": "markdown",
   "id": "71dc6279",
   "metadata": {},
   "source": [
    "### 구글 스프레드 시트 읽기\n",
    "- 특정 구글 스프레드 시트를 읽어오기 위해 활용하는 메소드 모음입니다.\n",
    "- dcteam@madup-355605.iam.gserviceaccount.com 계정에 참조하고자 하는 구글 시트 공유가 필요합니다."
   ]
  },
  {
   "cell_type": "code",
   "execution_count": null,
   "id": "2a3b192d",
   "metadata": {},
   "outputs": [],
   "source": [
    "from oauth2client.service_account import ServiceAccountCredentials\n",
    "import gspread\n",
    "import pandas as pd\n",
    "import time\n",
    "\n",
    "\n",
    "class spreadsheet:    \n",
    "    def spread_document_read(self, url):\n",
    "        token_dir = dr.dropbox_dir + '/광고사업부/데이터컨설팅/token'\n",
    "        scope = ['https://spreadsheets.google.com/feeds',\n",
    "                 'https://www.googleapis.com/auth/drive']\n",
    "        json_file = token_dir + '/madup-355605-cd37b0ac201f.json'\n",
    "        credentials = ServiceAccountCredentials.from_json_keyfile_name(json_file, scope)\n",
    "        gc = gspread.authorize(credentials)\n",
    "        read = gc.open_by_url(url)\n",
    "        print('스프레드시트 읽기 완료')\n",
    "        return read\n",
    "    \n",
    "    def spread_sheet(self, doc, sheet_name, col_num=0, row_num=0):\n",
    "        while True :\n",
    "            try :\n",
    "                data_sheet = doc.worksheet(sheet_name)\n",
    "                data_sheet_read = data_sheet.get_all_values()\n",
    "                result = pd.DataFrame(data_sheet_read, columns=data_sheet_read[row_num]).iloc[row_num+1:, col_num:]\n",
    "            except :\n",
    "                print('API 오류로 15초 후 다시 시도 합니다.')\n",
    "                time.sleep(15)\n",
    "                continue\n",
    "            break\n",
    "        return result\n",
    "\n",
    "spreadsheet = spreadsheet()"
   ]
  },
  {
   "cell_type": "markdown",
   "id": "c1e25ad7",
   "metadata": {},
   "source": [
    "### 코드\n",
    "- 전처리 자동화를 위한 코드로 임의 수정을 하실 경우 복사본 생성하여 진행해주시길 바랍니다.\n",
    "- 혹 아래 이미지와 같은 형식의 오류가 발생할 경우 `!pip install 패키지명`형식의 코드 작성하여 실행해주시면 해당 패키지가 설치됩니다.\n",
    "    - <img src = 'https://ifh.cc/g/ymACFT.png' align='left'>"
   ]
  },
  {
   "cell_type": "markdown",
   "id": "14c99673",
   "metadata": {},
   "source": [
    "- 이외의 오류가 발생하거나 문제가 해결되지 않는 경우, 데컨팀에 문의주세요 :)"
   ]
  },
  {
   "cell_type": "code",
   "execution_count": null,
   "id": "104bc684",
   "metadata": {},
   "outputs": [],
   "source": [
    "# 패키지 설치 코드 (패키지 설치 오류 발생시 아래 코드 실행해주세요.)\n",
    "# !pip install xlsxwriter\n",
    "# !pip install pyarrow"
   ]
  },
  {
   "cell_type": "code",
   "execution_count": null,
   "id": "ae7abc49",
   "metadata": {},
   "outputs": [],
   "source": [
    "import os\n",
    "import pyarrow as pa\n",
    "import pyarrow.csv as pacsv\n",
    "import pandas as pd\n",
    "import warnings\n",
    "warnings.filterwarnings('ignore')\n",
    "\n",
    "\n",
    "finda_raw_dir = dr.dropbox_dir + '/광고사업부/4. 광고주/핀다_7팀/2. 리포트/자동화리포트'\n",
    "n_raw_dir = finda_raw_dir + '/naver_prism'\n",
    "g_raw_dir = finda_raw_dir + '/google_sa_prism'\n",
    "result_dir = dr.download_dir\n",
    "required_date = rdate.day_1\n",
    "\n",
    "\n",
    "def get_raw_df(raw_dir, required_date):\n",
    "    if 'naver' in raw_dir:\n",
    "        dtypes = {\n",
    "            'date': pa.string(),\n",
    "            'campaign_name': pa.string(),\n",
    "            'adgroup_name': pa.string(),\n",
    "            'ad_keyword': pa.string(),\n",
    "            'ad_id': pa.string(),\n",
    "            'impression': pa.string(),\n",
    "            'click': pa.string(),\n",
    "            'cost': pa.string()\n",
    "        }\n",
    "    elif 'google' in raw_dir:\n",
    "        dtypes = {\n",
    "            'segments_date': pa.string(),\n",
    "            'campaign_name': pa.string(),\n",
    "            'ad_group_name': pa.string(),\n",
    "            'segments_keyword_info_text': pa.string(),\n",
    "            'ad_group_ad_ad_final_urls': pa.string(),\n",
    "            'impressions': pa.string(),\n",
    "            'clicks': pa.string(),\n",
    "            'cost_micros': pa.string()\n",
    "        }\n",
    "\n",
    "    index_columns = list(dtypes.keys())\n",
    "    convert_ops = pacsv.ConvertOptions(column_types=dtypes, include_columns=index_columns)\n",
    "    ro = pacsv.ReadOptions(block_size=10 << 20)\n",
    "    table_list = []\n",
    "\n",
    "    files = os.listdir(raw_dir)\n",
    "    files = [f for f in files if '.csv' in f]\n",
    "\n",
    "    date = required_date.strftime('%Y%m')\n",
    "    raw_files = [f for f in files if date in str(f)]\n",
    "\n",
    "    for f in raw_files:\n",
    "        temp = pacsv.read_csv(raw_dir + '/' + f, convert_options=convert_ops, read_options=ro)\n",
    "        table_list.append(temp)\n",
    "    table = pa.concat_tables(table_list)\n",
    "    raw_df = table.to_pandas()\n",
    "    return raw_df\n",
    "\n",
    "def prep_df(n_raw_df, g_raw_df, doc):\n",
    "    n_raw_df = n_raw_df.loc[~(n_raw_df['campaign_name'] == '핀다_BS')]\n",
    "    # n_raw_df = n_raw_df.loc[~(n_raw_df['campaign_name'] != '0')]\n",
    "    n_raw_df['date'] = n_raw_df['date'].apply(lambda x: pd.to_datetime(x).date())\n",
    "    n_raw_df[['impression','click','cost']] = n_raw_df[['impression','click','cost']].apply(lambda x: pd.to_numeric(x))\n",
    "    n_raw_df.loc[:, 'cost'] = n_raw_df.loc[:, 'cost'].apply(lambda x: x * 1.1)\n",
    "    # 네이버 가공\n",
    "\n",
    "    g_raw_df['segments_date'] = g_raw_df['segments_date'].apply(lambda x: pd.to_datetime(x).date())\n",
    "    g_raw_df[['impressions', 'clicks', 'cost_micros']] = g_raw_df[['impressions', 'clicks', 'cost_micros']].apply(lambda x: pd.to_numeric(x))\n",
    "    g_raw_df['cost_micros'] = g_raw_df['cost_micros'].apply(lambda x: x / 1000000)\n",
    "    g_raw_df['sum_metrix'] = g_raw_df['impressions'] + g_raw_df['clicks'] + g_raw_df['cost_micros']\n",
    "    g_raw_df = g_raw_df.loc[g_raw_df['sum_metrix'] > 0]\n",
    "    def utm_content(list):\n",
    "        for x in list:\n",
    "            if 'utm_content' in x:\n",
    "                return x\n",
    "    g_raw_df['ad_group_ad_ad_final_urls'] = g_raw_df['ad_group_ad_ad_final_urls'].apply(lambda x: utm_content(x.split('&'))[12:])\n",
    "    sheet_data = spreadsheet.spread_sheet(doc, '구글라벨(자동화:터치NO)') # 소재명-브릿지페이지 매핑\n",
    "    label_dict = dict(zip(sheet_data['광고 소재명'], sheet_data['브릿지 페이지명']))\n",
    "    g_raw_df['ad_group_ad_ad_final_urls'] = g_raw_df['ad_group_ad_ad_final_urls'].apply(lambda x: x+label_dict[x])\n",
    "    # 구글 가공\n",
    "\n",
    "    return n_raw_df, g_raw_df\n",
    "\n",
    "def download_df(n_result_df, g_result_df):\n",
    "    # 결과파일 다운로드\n",
    "    date = required_date.strftime('%Y%m%d')\n",
    "    writer = pd.ExcelWriter(result_dir + f'/매체종합_{date}.xlsx', engine='xlsxwriter', engine_kwargs={'options': {'strings_to_urls': False}})\n",
    "    n_result_df.to_excel(writer, sheet_name='naver', encoding='utf-8-sig', index=False)\n",
    "    g_result_df.to_excel(writer, sheet_name='google', encoding='utf-8-sig', index=False)\n",
    "    writer.close()\n",
    "    print('download success')\n",
    "\n",
    "\n",
    "n_raw_df = get_raw_df(n_raw_dir, required_date)\n",
    "g_raw_df = get_raw_df(g_raw_dir, required_date)\n",
    "doc = spreadsheet.spread_document_read(\n",
    "    'https://docs.google.com/spreadsheets/d/1DEDtSe3LGC2bqS3-UHL62h50vtLIvzkbk3Nx512zZow/edit#gid=2004266056')\n",
    "n_result_df, g_result_df = prep_df(n_raw_df, g_raw_df, doc)\n",
    "download_df(n_result_df, g_result_df)\n"
   ]
  },
  {
   "cell_type": "markdown",
   "id": "c35b6085",
   "metadata": {},
   "source": [
    "---"
   ]
  }
 ],
 "metadata": {
  "kernelspec": {
   "display_name": "Python 3 (ipykernel)",
   "language": "python",
   "name": "python3"
  },
  "language_info": {
   "codemirror_mode": {
    "name": "ipython",
    "version": 3
   },
   "file_extension": ".py",
   "mimetype": "text/x-python",
   "name": "python",
   "nbconvert_exporter": "python",
   "pygments_lexer": "ipython3",
   "version": "3.9.12"
  }
 },
 "nbformat": 4,
 "nbformat_minor": 5
}
