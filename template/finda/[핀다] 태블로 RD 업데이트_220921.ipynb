{
 "cells": [
  {
   "cell_type": "markdown",
   "metadata": {},
   "source": [
    "## 날짜설정"
   ]
  },
  {
   "cell_type": "code",
   "execution_count": 9,
   "metadata": {},
   "outputs": [],
   "source": [
    "import datetime\n",
    "\n",
    "today = datetime.date.today()\n",
    "\n",
    "# 특정 날짜 기준으로 설정하고 싶을때는 아래 주석 해제하여 사용\n",
    "#today = datetime.date(2022,9,1)\n",
    "\n",
    "day_1 = today - datetime.timedelta(1)\n",
    "start_day = datetime.date(year = day_1.year, month=day_1.month, day=1)\n",
    "day_1_yearmonth = day_1.strftime('%Y%m')"
   ]
  },
  {
   "cell_type": "markdown",
   "metadata": {},
   "source": [
    "## 디렉토리 설정"
   ]
  },
  {
   "cell_type": "code",
   "execution_count": 10,
   "metadata": {},
   "outputs": [],
   "source": [
    "# 데이터컨설팅 폴더 동기화 필요\n",
    "# 자신의 드롭박스 경로에 맞게 수정\n",
    "dropbox_dir = 'C:/Users/MADUP/Dropbox (주식회사매드업)/광고사업부/데이터컨설팅/Tableau'\n",
    "\n",
    "raw_dir = dropbox_dir + '/RD'   # 리포트 RD 업데이트 하는 경로\n",
    "                                # raw_dir에는 result_name_yyyymm.csv 형태로 저장되어 있어야 합니다.\n",
    "result_dir = dropbox_dir + '/result' # 태블로용 RD 저장 폴더\n",
    "\n",
    "token_dir = dropbox_dir + '/token'\n",
    "asset_dir = dropbox_dir + '/asset'"
   ]
  },
  {
   "cell_type": "markdown",
   "metadata": {},
   "source": [
    "## 광고주 정보"
   ]
  },
  {
   "cell_type": "code",
   "execution_count": 11,
   "metadata": {},
   "outputs": [],
   "source": [
    "class info():\n",
    "    account_name = '핀다' # 광고주 정보\n",
    "    result_name = 'finda'# 파일명 정보"
   ]
  },
  {
   "cell_type": "markdown",
   "metadata": {},
   "source": [
    "## 스프레드 시트 설정"
   ]
  },
  {
   "cell_type": "code",
   "execution_count": 12,
   "metadata": {},
   "outputs": [],
   "source": [
    "from oauth2client.service_account import ServiceAccountCredentials\n",
    "import gspread\n",
    "import time\n",
    "\n",
    "class spread_sheet():\n",
    "    def spread_document_read(url):\n",
    "        scope = ['https://spreadsheets.google.com/feeds',\n",
    "                 'https://www.googleapis.com/auth/drive']\n",
    "        json_file = token_dir + '/madup-355605-cd37b0ac201f.json'\n",
    "        credentials = ServiceAccountCredentials.from_json_keyfile_name(json_file, scope)\n",
    "        gc = gspread.authorize(credentials)\n",
    "        read = gc.open_by_url(url)\n",
    "        print('스프레드시트 읽기 완료')\n",
    "        return read\n",
    "\n",
    "    def spread_sheet(doc, sheet_name, col_num=0, row_num=0):\n",
    "        while True :\n",
    "            try :\n",
    "                data_sheet = doc.worksheet(sheet_name)\n",
    "                data_sheet_read = data_sheet.get_all_values()\n",
    "                result = pd.DataFrame(data_sheet_read, columns=data_sheet_read[row_num]).iloc[row_num+1:, col_num:]\n",
    "            except :\n",
    "                print('API 오류로 15초 후 다시 시도 합니다.')\n",
    "                time.sleep(15)\n",
    "                continue\n",
    "            break\n",
    "        return result"
   ]
  },
  {
   "cell_type": "markdown",
   "metadata": {},
   "source": [
    "## 코드 실행"
   ]
  },
  {
   "cell_type": "code",
   "execution_count": 19,
   "metadata": {},
   "outputs": [
    {
     "name": "stdout",
     "output_type": "stream",
     "text": [
      "스프레드시트 읽기 완료\n",
      "스프레드시트 읽기 완료\n"
     ]
    }
   ],
   "source": [
    "import pandas as pd\n",
    "\n",
    "# 태블로 대시보드 컬럼 설정 불러오기\n",
    "doc = spread_sheet.spread_document_read('https://docs.google.com/spreadsheets/d/1efQrJpglhz0K9wKkl2QZ5VLrMu_hIUUnPG_uTSeI1Hk/edit#gid=2008544363')\n",
    "sheet_data = spread_sheet.spread_sheet(doc, info.account_name)\n",
    "\n",
    "sheet_data_column = sheet_data.loc[sheet_data['원본 리포트 기준']!= '입력 금지', ['원본 리포트 기준', '태블로 RD']]\n",
    "sheet_data_column = sheet_data_column.loc[sheet_data_column['원본 리포트 기준']!='']\n",
    "\n",
    "# 컬럼명 기준 딕셔너리 생성\n",
    "column_dict = dict(zip(sheet_data_column['원본 리포트 기준'], sheet_data_column['태블로 RD']))\n",
    "use_cols = column_dict.keys()\n",
    "\n",
    "## 광고주 리포트 데이터 가져오기\n",
    "raw_data = pd.read_csv(raw_dir + f'/{info.account_name}/{info.result_name}_{day_1_yearmonth}.csv',encoding='utf-8-sig',usecols= use_cols)\n",
    "\n",
    "raw_data = raw_data.rename(columns = column_dict)\n",
    "raw_data = raw_data.loc[pd.to_datetime(raw_data['날짜']).dt.month == day_1.month]\n",
    "raw_data.columns\n",
    "# string to numeric\n",
    "value_columns = ['노출', '클릭', '비용', '조회','대출실행','설치','가입','한도조회','마이데이터',\n",
    "                 '재설치','재유입','m.설치', 'm.가입', 'm.한도조회', 'm.대출실행']\n",
    "columns = raw_data.columns\n",
    "\n",
    "for col in value_columns:\n",
    "    if col in columns:\n",
    "        if raw_data[col].dtypes == 'object':\n",
    "            raw_data[col] = raw_data[col].str.strip()\n",
    "            raw_data[col] = raw_data[col].str.replace('-', '0')\n",
    "            raw_data[col] = raw_data[col].str.replace(',', '')\n",
    "            raw_data[col] = pd.to_numeric(raw_data[col])\n",
    "\n",
    "# 매체 정보 컬럼 추가\n",
    "media_category = sheet_data[sheet_data.columns[6:]]\n",
    "\n",
    "for category in media_category.columns :\n",
    "    medias = list(media_category[category].unique())\n",
    "    raw_data.loc[raw_data['매체'].isin(medias), '광고 유형'] = category\n",
    "\n",
    "\n",
    "# 캠페인 정보 관리 시트 불러오기\n",
    "campaign_doc = spread_sheet.spread_document_read('https://docs.google.com/spreadsheets/d/1w23AdEYLf4OJDlTElf2vwbVPttctSx-2nB51ZHQDEJQ/edit#gid=0')\n",
    "campaign_sheet = spread_sheet.spread_sheet(campaign_doc, '캠페인 정보')\n",
    "campaign_sheet = campaign_sheet.loc[campaign_sheet['광고주'] == '핀다']\n",
    "#campaign_sheet = campaign_sheet.loc[campaign_sheet['매체'].isin(['페이스북', '카카오', '구글'])]\n",
    "campaign_sheet = campaign_sheet[['광고 상품', '캠페인', '최적화 엔진', '캠페인 구분', '오디언스', 'OS', 'KPI', '캠페인 라벨']]\n",
    "campaign_sheet = campaign_sheet.drop_duplicates(['캠페인'], keep='last')\n",
    "\n",
    "### 리포트 RD 캠페인 정보 merge\n",
    "raw_data = raw_data.merge(campaign_sheet, on=['캠페인'], how='left')\n",
    "\n",
    "# creative report\n",
    "\n",
    "creative_raw = raw_data.copy()\n",
    "\n",
    "# 매체별 필터 기준\n",
    "facebook_list = list(sheet_data.loc[sheet_data['페이스북 필터'].str.len() > 0, '페이스북 필터'])\n",
    "kakao_list = list(sheet_data.loc[sheet_data['카카오 필터'].str.len() > 0, '카카오 필터'])\n",
    "google_list = list(sheet_data.loc[sheet_data['구글 필터'].str.len() > 0, '구글 필터'])\n",
    "\n",
    "# 예외처리 정보 불러오기\n",
    "exception_sheet = spread_sheet.spread_sheet(doc, '예외처리')\n",
    "exception_sheet = exception_sheet.loc[(exception_sheet['체크박스']=='TRUE')&(exception_sheet['광고주']==info.account_name)]\n",
    "exception_sheet.index = range(0, len(exception_sheet))\n",
    "\n",
    "for i in exception_sheet.index:\n",
    "    func = exception_sheet.iloc[i]['방식']\n",
    "    col = exception_sheet.iloc[i]['구분']\n",
    "    media = exception_sheet.iloc[i]['매체']\n",
    "    name = exception_sheet.iloc[i]['이름']\n",
    "    alt = exception_sheet.iloc[i]['대체 값']\n",
    "\n",
    "    if func == 'EXCLUDE':\n",
    "        creative_raw = creative_raw.loc[~((creative_raw['매체']==media) & (creative_raw[col]==name))]\n",
    "    elif func == 'REPLACE' :\n",
    "        creative_raw.loc[((creative_raw['매체'] == media) & (creative_raw[col] == name)), name] = alt\n",
    "\n",
    "#creative_raw = creative_raw.loc[creative_raw['매체'].isin(['페이스북', '카카오', '구글'])]\n",
    "creative_raw.loc[creative_raw['매체'].isin(google_list), '소재'] = creative_raw['광고그룹']\n",
    "\n",
    "\n",
    "# 애셋 정보 불러오기\n",
    "account_sheet = spread_sheet.spread_sheet(campaign_doc, 'Owner 정보')\n",
    "account_sheet = account_sheet.rename(columns = {'Owner ID' : 'owner_id'})\n",
    "account_sheet = account_sheet.drop_duplicates('owner_id')\n",
    "asset_data = pd.read_csv(asset_dir + f'/total_asset_data_{day_1_yearmonth}.csv')\n",
    "asset_data_merge = asset_data.merge(account_sheet, on ='owner_id', how='left')\n",
    "asset_data_merge = asset_data_merge.loc[asset_data_merge['광고주']=='핀다']\n",
    "del asset_data_merge['owner_id'], asset_data_merge['광고주'], asset_data_merge['매체']\n",
    "\n",
    "creative_merge_final = creative_raw.merge(asset_data_merge, on = ['캠페인', '광고그룹', '소재'], how = 'left')\n",
    "\n",
    "# 수동 예외처리\n",
    "# creative_merge_final.loc[creative_merge_final['소재'].str.contains(pat = '@AOS'), 'OS'] = 'AOS'\n",
    "# creative_merge_final.loc[creative_merge_final['소재'].str.contains(pat = '@IOS'), 'OS'] = 'iOS'\n",
    "creative_merge_final.loc[creative_merge_final['캠페인 구분'] == 'Retargeting', '재한도조회'] = creative_merge_final['한도조회']\n",
    "creative_merge_final.loc[creative_merge_final['캠페인 구분'] == 'Retargeting', '한도조회'] = 0\n",
    "\n",
    "## 추가 데이터 불러오기\n",
    "rd_doc =  spread_sheet.spread_document_read('https://docs.google.com/spreadsheets/d/1Sj7AFdWkM87yn8RwMZLSJ-WHav0WqX4xsBrm0iivSfY/edit#gid=0')\n",
    "kpi_data = spread_sheet.spread_sheet(rd_doc, 'KPI')\n",
    "kpi_data = kpi_data.rename(columns = {'노출' : '노출 KPI',\n",
    "                                      '클릭' : '클릭 KPI',\n",
    "                                      '비용' : '비용 KPI',\n",
    "                                      '설치' : '설치 KPI',\n",
    "                                      '재설치' : '재설치 KPI',\n",
    "                                      '가입' : '가입 KPI',\n",
    "                                      '한도조회' : '한도조회 KPI',\n",
    "                                      '재한도조회' : '재한도조회 KPI',\n",
    "                                      '대출실행' : '대출실행 KPI',\n",
    "                                      '마이데이터' : '마이데이터 KPI'})\n",
    "kpi_data = kpi_data.loc[(pd.to_datetime(kpi_data['날짜']).dt.date >= start_day) & (pd.to_datetime(kpi_data['날짜']).dt.date <= day_1)]\n",
    "organic_data = spread_sheet.spread_sheet(rd_doc, '오가닉')\n",
    "organic_data = organic_data.loc[(pd.to_datetime(organic_data['날짜']).dt.date >= start_day) & (pd.to_datetime(organic_data['날짜']).dt.date <= day_1)]\n",
    "au_data = spread_sheet.spread_sheet(rd_doc, 'MAU')\n",
    "au_data = au_data.loc[(pd.to_datetime(au_data['날짜']).dt.date >= start_day) & (pd.to_datetime(au_data['날짜']).dt.date <= day_1)]\n",
    "\n",
    "\n",
    "creative_merge_final = pd.concat([creative_merge_final, kpi_data, organic_data, au_data], sort=False, ignore_index=True)\n",
    "\n",
    "value_columns = value_columns + ['노출 KPI', '클릭 KPI', '비용 KPI', '설치 KPI', '재설치 KPI', '가입 KPI', '한도조회 KPI',\n",
    "                 '재한도조회 KPI',  '대출실행 KPI', 'DAU KPI','마이데이터 KPI','오가닉 설치', 'DAU', '재한도조회']\n",
    "\n",
    "for val in value_columns :\n",
    "    creative_merge_final[val] = creative_merge_final[val].fillna(0)\n",
    "\n",
    "creative_merge_final.to_csv(result_dir + f'/{info.account_name}/tableau_creative_rd_{info.result_name}_{day_1_yearmonth}.csv', index=False, encoding='utf-8-sig')"
   ]
  },
  {
   "cell_type": "code",
   "execution_count": 6,
   "metadata": {},
   "outputs": [
    {
     "data": {
      "text/plain": [
       "77094.0"
      ]
     },
     "execution_count": 6,
     "metadata": {},
     "output_type": "execute_result"
    }
   ],
   "source": [
    "creative_merge_final['한도조회'].sum()"
   ]
  },
  {
   "cell_type": "code",
   "execution_count": null,
   "metadata": {},
   "outputs": [],
   "source": []
  }
 ],
 "metadata": {
  "kernelspec": {
   "display_name": "Python 3 (ipykernel)",
   "language": "python",
   "name": "python3"
  },
  "language_info": {
   "codemirror_mode": {
    "name": "ipython",
    "version": 3
   },
   "file_extension": ".py",
   "mimetype": "text/x-python",
   "name": "python",
   "nbconvert_exporter": "python",
   "pygments_lexer": "ipython3",
   "version": "3.9.12"
  }
 },
 "nbformat": 4,
 "nbformat_minor": 2
}
