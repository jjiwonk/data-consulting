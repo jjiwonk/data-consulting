{
 "cells": [
  {
   "cell_type": "markdown",
   "id": "f356ad74",
   "metadata": {},
   "source": [
    "## 무신사 AF 첫 구매 데이터 추출"
   ]
  },
  {
   "cell_type": "code",
   "execution_count": null,
   "id": "ef2e2f3c",
   "metadata": {},
   "outputs": [],
   "source": [
    "import os\n",
    "import pyarrow as pa\n",
    "import pyarrow.csv as pacsv\n",
    "import pandas as pd\n",
    "import datetime\n",
    "from dateutil.relativedelta import relativedelta\n",
    "\n",
    "# 관련 패키지 없는 경우 아래 코드 수정하여 설치\n",
    "# !pip install [패키지이름]"
   ]
  },
  {
   "cell_type": "markdown",
   "id": "8aceb2b3",
   "metadata": {},
   "source": [
    "### 경로 및 추출일자 설정"
   ]
  },
  {
   "cell_type": "code",
   "execution_count": null,
   "id": "672a8ba1",
   "metadata": {},
   "outputs": [],
   "source": [
    "raw_dir = 'D:/Dropbox (주식회사매드업)/광고사업부/4. 광고주/무신사/★ 무신사 통합/raw_data/appsflyer'\n",
    "# raw_data 파일 경로\n",
    "\n",
    "result_dir = 'C:/Users/MADUP/Downloads'\n",
    "# 결과파일 다운로드할 경로\n",
    "\n",
    "yearmonth = '202208'\n",
    "# 추출하고자 하는 년월 입력"
   ]
  },
  {
   "cell_type": "markdown",
   "id": "2ce46a4c",
   "metadata": {},
   "source": [
    "### 데이터 정제"
   ]
  },
  {
   "cell_type": "code",
   "execution_count": null,
   "id": "68d252f3",
   "metadata": {
    "scrolled": true
   },
   "outputs": [],
   "source": [
    "def musinsa_rawdata_read(yearmonth):\n",
    "    raw_files = os.listdir(raw_dir)\n",
    "    raw_files = [f for f in raw_files if '.csv' in f]\n",
    "    \n",
    "    date = datetime.datetime.strptime(yearmonth,'%Y%m')\n",
    "    start_date = date.strftime('%Y%m%d')\n",
    "    end_date = (date + relativedelta(months=1) - relativedelta(days=1)).strftime('%Y%m%d')\n",
    "    raw_files = [f for f in raw_files if (int(str(f)[-12:-4]) >= int(start_date)) & (int(str(f)[-12:-4]) <= int(end_date))]\n",
    "\n",
    "    dtypes = {\n",
    "        'attributed_touch_type' : pa.string(),\n",
    "        'attributed_touch_time' : pa.string(),\n",
    "        'install_time' : pa.string(),\n",
    "        'event_time': pa.string(),\n",
    "        'event_name': pa.string(),\n",
    "        'event_revenue': pa.string(),\n",
    "        'event_revenue_krw': pa.string(),\n",
    "        'media_source': pa.string(),\n",
    "        'channel': pa.string(),\n",
    "        'keywords': pa.string(),\n",
    "        'keyword_id': pa.string(),\n",
    "        'campaign': pa.string(),\n",
    "        'campaign_id': pa.string(),\n",
    "        'adset': pa.string(),\n",
    "        'adset_id': pa.string(),\n",
    "        'ad': pa.string(),\n",
    "        'site_id': pa.string(),\n",
    "        'appsflyer_id': pa.string(),\n",
    "        'advertising_id': pa.string(),\n",
    "        'idfa': pa.string(),\n",
    "        'android_id': pa.string(),\n",
    "        'idfv': pa.string(),\n",
    "        'platform': pa.string(),\n",
    "        'device_type': pa.string(),\n",
    "        'is_retargeting': pa.string(),\n",
    "        'retargeting_conversion_type': pa.string(),\n",
    "        'is_primary_attribution' : pa.string(),\n",
    "        'attribution_lookback': pa.string(),\n",
    "        'carrier': pa.string(),\n",
    "        # 'collected_at': pa.string(),\n",
    "        'customer_user_id': pa.string()\n",
    "    }\n",
    "    index_columns = list(dtypes.keys())\n",
    "    convert_ops = pacsv.ConvertOptions(column_types=dtypes, include_columns=index_columns)\n",
    "    ro = pacsv.ReadOptions(block_size=10 << 20)\n",
    "\n",
    "    table_list = []\n",
    "    for f in raw_files:\n",
    "        try:\n",
    "            temp = pacsv.read_csv(raw_dir + '/' + f, convert_options=convert_ops, read_options=ro)\n",
    "            table_list.append(temp)\n",
    "        except Exception as e:\n",
    "            print(f)\n",
    "            print(e)\n",
    "\n",
    "    print('원본 데이터 Read 완료')\n",
    "\n",
    "    table = pa.concat_tables(table_list)\n",
    "    df = table.to_pandas()\n",
    "\n",
    "    return df"
   ]
  },
  {
   "cell_type": "code",
   "execution_count": null,
   "id": "99a35195",
   "metadata": {},
   "outputs": [],
   "source": [
    "def prep_raw_df(df):\n",
    "    df.is_primary_attribution = df.is_primary_attribution.apply(str.lower)\n",
    "    \n",
    "    con1 = (df['attributed_touch_type'] == 'click')\n",
    "    con2 = (df['event_name'] == 'first_purchase')\n",
    "    con3 = (df['is_primary_attribution'] == 'true')\n",
    "    \n",
    "    filtered_data = df.loc[con1 & con2 & con3]\n",
    "    filtered_data['customer_user_id'] = filtered_data['customer_user_id'].fillna(0)\n",
    "    \n",
    "    return filtered_data"
   ]
  },
  {
   "cell_type": "markdown",
   "id": "88dfa134",
   "metadata": {},
   "source": [
    "### 실행 및 결과파일 다운로드"
   ]
  },
  {
   "cell_type": "code",
   "execution_count": null,
   "id": "c88c2f85",
   "metadata": {},
   "outputs": [],
   "source": [
    "df = musinsa_rawdata_read(yearmonth)\n",
    "filtered_data = prep_raw_df(df)\n",
    "filtered_data.to_csv(result_dir + \"/musinsa_first_purchase_log_with_cuid_202208.csv\", encoding='utf-8-sig', index=False)\n",
    "# 결과 파일 다운로드"
   ]
  },
  {
   "cell_type": "code",
   "execution_count": null,
   "id": "9663df10",
   "metadata": {},
   "outputs": [],
   "source": []
  }
 ],
 "metadata": {
  "kernelspec": {
   "display_name": "Python 3 (ipykernel)",
   "language": "python",
   "name": "python3"
  },
  "language_info": {
   "codemirror_mode": {
    "name": "ipython",
    "version": 3
   },
   "file_extension": ".py",
   "mimetype": "text/x-python",
   "name": "python",
   "nbconvert_exporter": "python",
   "pygments_lexer": "ipython3",
   "version": "3.9.12"
  }
 },
 "nbformat": 4,
 "nbformat_minor": 5
}
